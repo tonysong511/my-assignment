{
    "nbformat_minor": 1, 
    "cells": [
        {
            "source": "# My First Notebook", 
            "cell_type": "markdown", 
            "metadata": {
                "collapsed": true
            }
        }, 
        {
            "source": "**This a bold text**", 
            "cell_type": "markdown", 
            "metadata": {}
        }, 
        {
            "source": "_this is italics text_", 
            "cell_type": "markdown", 
            "metadata": {}
        }, 
        {
            "source": "<img alt=\"\u5927\u6570\u636e\u4e0e\u5206\u6790\" src=\"https://www.ibm.com/us-en/images/analytics.png\" width=\"70\" height=\"70\">", 
            "cell_type": "markdown", 
            "metadata": {}
        }, 
        {
            "source": "<a href=https://www.ibm.com/us-en/images/analytics.png></a>", 
            "cell_type": "markdown", 
            "metadata": {}
        }, 
        {
            "source": "1+1", 
            "cell_type": "code", 
            "metadata": {}, 
            "outputs": [
                {
                    "output_type": "execute_result", 
                    "data": {
                        "text/plain": "2"
                    }, 
                    "execution_count": 8, 
                    "metadata": {}
                }
            ], 
            "execution_count": 8
        }, 
        {
            "source": "x=1\nx", 
            "cell_type": "code", 
            "metadata": {}, 
            "outputs": [
                {
                    "output_type": "execute_result", 
                    "data": {
                        "text/plain": "1"
                    }, 
                    "execution_count": 9, 
                    "metadata": {}
                }
            ], 
            "execution_count": 9
        }
    ], 
    "metadata": {
        "kernelspec": {
            "display_name": "Python 3.5", 
            "name": "python3", 
            "language": "python"
        }, 
        "language_info": {
            "mimetype": "text/x-python", 
            "nbconvert_exporter": "python", 
            "version": "3.5.5", 
            "name": "python", 
            "pygments_lexer": "ipython3", 
            "file_extension": ".py", 
            "codemirror_mode": {
                "version": 3, 
                "name": "ipython"
            }
        }
    }, 
    "nbformat": 4
}